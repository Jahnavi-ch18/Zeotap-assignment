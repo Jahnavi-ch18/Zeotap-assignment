{
  "metadata": {
    "kernelspec": {
      "name": "python",
      "display_name": "Python (Pyodide)",
      "language": "python"
    },
    "language_info": {
      "name": ""
    }
  },
  "nbformat_minor": 5,
  "nbformat": 4,
  "cells": [
    {
      "id": "5d2b6119-ceb4-49a5-b72a-39d02410dcef",
      "cell_type": "code",
      "source": "{\n \"cells\": [\n  {\n   \"cell_type\": \"code\",\n   \"execution_count\": 1,\n   \"metadata\": {},\n   \"outputs\": [],\n   \"source\": [\n    \"import pandas as pd\\n\",\n    \"import numpy as np\\n\",\n    \"import matplotlib.pyplot as plt\\n\",\n    \"from sklearn.cluster import KMeans\\n\",\n    \"from sklearn.preprocessing import StandardScaler\\n\",\n    \"from sklearn.metrics import davies_bouldin_score\"\n   ]\n  },\n  {\n   \"cell_type\": \"code\",\n   \"execution_count\": 2,\n   \"metadata\": {},\n   \"outputs\": [],\n   \"source\": [\n    \"customers = pd.read_csv('path_to_customers.csv')\\n\",\n    \"transactions = pd.read_csv('path_to_transactions.csv')\\n\",\n    \"transaction_summary = transactions.groupby('CustomerID').agg({\\n\",\n    \"    'TotalValue': 'sum',\\n\",\n    \"    'TransactionID': 'count'\\n\",\n    \"}).rename(columns={'TotalValue': 'TotalSpending', 'TransactionID': 'TransactionCount'})\\n\",\n    \"merged_data = pd.merge(customers, transaction_summary, on='CustomerID', how='inner')\"\n   ]\n  },\n  {\n   \"cell_type\": \"code\",\n   \"execution_count\": 3,\n   \"metadata\": {},\n   \"outputs\": [],\n   \"source\": [\n    \"features = merged_data[['TotalSpending', 'TransactionCount']]\\n\",\n    \"scaler = StandardScaler()\\n\",\n    \"scaled_features = scaler.fit_transform(features)\"\n   ]\n  },\n  {\n   \"cell_type\": \"code\",\n   \"execution_count\": 4,\n   \"metadata\": {},\n   \"outputs\": [],\n   \"source\": [\n    \"kmeans = KMeans(n_clusters=3, random_state=42)\\n\",\n    \"clusters = kmeans.fit_predict(scaled_features)\\n\",\n    \"merged_data['Cluster'] = clusters\\n\",\n    \"centroids = kmeans.cluster_centers_\\n\",\n    \"print(\\\"Cluster centroids:\\\", centroids)\"\n   ]\n  },\n  {\n   \"cell_type\": \"code\",\n   \"execution_count\": 5,\n   \"metadata\": {},\n   \"outputs\": [],\n   \"source\": [\n    \"db_index = davies_bouldin_score(scaled_features, clusters)\\n\",\n    \"print(\\\"Davies-Bouldin Index:\\\", db_index)\"\n   ]\n  },\n  {\n   \"cell_type\": \"code\",\n   \"execution_count\": 6,\n   \"metadata\": {},\n   \"outputs\": [],\n   \"source\": [\n    \"plt.scatter(merged_data['TotalSpending'], merged_data['TransactionCount'], c=merged_data['Cluster'], cmap='viridis')\\n\",\n    \"plt.xlabel('Total Spending')\\n\",\n    \"plt.ylabel('Transaction Count')\\n\",\n    \"plt.colorbar(label='Cluster')\\n\",\n    \"plt.show()\"\n   ]\n  },\n  {\n   \"cell_type\": \"code\",\n   \"execution_count\": 7,\n   \"metadata\": {},\n   \"outputs\": [],\n   \"source\": [\n    \"merged_data.to_csv('Clustered_Customers.csv', index=False)\"\n   ]\n  }\n ],\n \"metadata\": {\n  \"kernelspec\": {\n   \"display_name\": \"Python 3\",\n   \"language\": \"python\",\n   \"name\": \"python3\"\n  },\n  \"language_info\": {\n   \"codemirror_mode\": {\n    \"name\": \"ipython\",\n    \"version\": 3\n   },\n   \"file_extension\": \".py\",\n   \"mimetype\": \"text/x-python\",\n   \"name\": \"python\",\n   \"nbconvert_exporter\": \"python\",\n   \"pygments_lexer\": \"ipython3\",\n   \"version\": \"3.8.10\"\n  }\n },\n \"nbformat\": 4,\n \"nbformat_minor\": 4\n}\n",
      "metadata": {
        "trusted": true
      },
      "outputs": [],
      "execution_count": null
    }
  ]
}