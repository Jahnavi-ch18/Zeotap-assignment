{
  "metadata": {
    "kernelspec": {
      "name": "python",
      "display_name": "Python (Pyodide)",
      "language": "python"
    },
    "language_info": {
      "codemirror_mode": {
        "name": "python",
        "version": 3
      },
      "file_extension": ".py",
      "mimetype": "text/x-python",
      "name": "python",
      "nbconvert_exporter": "python",
      "pygments_lexer": "ipython3",
      "version": "3.8"
    }
  },
  "nbformat_minor": 5,
  "nbformat": 4,
  "cells": [
    {
      "id": "26b08413-e19e-4e48-ae3c-7d40522388de",
      "cell_type": "code",
      "source": "import pandas as pd\nimport numpy as np\nimport matplotlib.pyplot as plt\nimport seaborn as sns\n\ncustomers = pd.read_csv('Customers.csv')\nproducts = pd.read_csv('Products.csv')\ntransactions = pd.read_csv('Transactions.csv')\n\nprint(\"Customers Dataset Info:\")\ncustomers.info()\nprint(\"\\nProducts Dataset Info:\")\nproducts.info()\nprint(\"\\nTransactions Dataset Info:\")\ntransactions.info()\n\nmerged_data = pd.merge(transactions, customers, on='CustomerID')\nmerged_data = pd.merge(merged_data, products, on='ProductID')\n\nprint(\"Missing Values:\")\nprint(merged_data.isnull().sum())\n\nregion_count = customers['Region'].value_counts()\nsns.barplot(x=region_count.index, y=region_count.values)\nplt.title(\"Customer Distribution by Region\")\nplt.xlabel(\"Region\")\nplt.ylabel(\"Number of Customers\")\nplt.show()\n\ntop_products = (\n    merged_data.groupby('ProductName')['TotalValue']\n    .sum()\n    .sort_values(ascending=False)\n    .head(5)\n)\ntop_products.plot(kind='bar', title=\"Top 5 Products by Total Sales\", color='skyblue')\nplt.ylabel(\"Total Sales (USD)\")\nplt.show()\n\nmerged_data['TransactionDate'] = pd.to_datetime(merged_data['TransactionDate'])\nsales_trends = merged_data.groupby(merged_data['TransactionDate'].dt.to_period(\"M\"))['TotalValue'].sum()\nsales_trends.plot(title=\"Monthly Sales Trends\", marker='o')\nplt.ylabel(\"Total Sales (USD)\")\nplt.show()\n\navg_spending = merged_data.groupby('Region')['TotalValue'].mean().sort_values()\navg_spending.plot(kind='bar', title=\"Average Spending by Region\", color='orange')\nplt.ylabel(\"Average Spending (USD)\")\nplt.show()\n",
      "metadata": {
        "trusted": true
      },
      "outputs": [],
      "execution_count": null
    }
  ]
}