{
  "metadata": {
    "kernelspec": {
      "name": "python",
      "display_name": "Python (Pyodide)",
      "language": "python"
    },
    "language_info": {
      "codemirror_mode": {
        "name": "python",
        "version": 3
      },
      "file_extension": ".py",
      "mimetype": "text/x-python",
      "name": "python",
      "nbconvert_exporter": "python",
      "pygments_lexer": "ipython3",
      "version": "3.8"
    }
  },
  "nbformat_minor": 5,
  "nbformat": 4,
  "cells": [
    {
      "id": "b41b83e3-c9cd-4ad6-a036-3ca63e3445c0",
      "cell_type": "code",
      "source": "import pandas as pd\nfrom sklearn.metrics.pairwise import cosine_similarity\n\ncustomers = pd.read_csv('Customers.csv')\ntransactions = pd.read_csv('Transactions.csv')\n\nmerged = pd.merge(transactions, customers, on='CustomerID')\n\ncustomer_product_matrix = merged.pivot_table(\n    index='CustomerID', columns='ProductID', values='Quantity', fill_value=0\n)\n\nsimilarity_matrix = cosine_similarity(customer_product_matrix)\nsimilarity_df = pd.DataFrame(\n    similarity_matrix, index=customer_product_matrix.index, columns=customer_product_matrix.index\n)\n\ntop_3_lookalikes = {}\nfor customer in similarity_df.index[:20]:\n    similar_customers = similarity_df.loc[customer].sort_values(ascending=False)[1:4]\n    top_3_lookalikes[customer] = list(zip(similar_customers.index, similar_customers.values))\n\nlookalike_df = pd.DataFrame(\n    [(key, val[0][0], val[0][1], val[1][0], val[1][1], val[2][0], val[2][1]) \n     for key, val in top_3_lookalikes.items()],\n    columns=['CustomerID', 'Lookalike1', 'Score1', 'Lookalike2', 'Score2', 'Lookalike3', 'Score3']\n)\nlookalike_df.to_csv('FirstName_LastName_Lookalike.csv', index=False)\n",
      "metadata": {
        "trusted": true
      },
      "outputs": [],
      "execution_count": null
    }
  ]
}